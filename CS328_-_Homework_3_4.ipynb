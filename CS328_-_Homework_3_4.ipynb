{
 "cells": [
  {
   "cell_type": "markdown",
   "metadata": {
    "collapsed": true
   },
   "source": [
    "# Homework 3\n",
    "\n",
    "### CS328 — Numerical Methods for Visual Computing\n",
    "- - -\n",
    "\n",
    "**Out** on Monday 21.11, **due** on Monday 5.12.\n",
    "\n",
    "This notebook contains literate code, i.e. brief fragments of Python surrounded by descriptive text. Please use the same format when submitting your answers. Begin your response to each problem with a <tt>&nbsp;<b>## Solution</b>&nbsp;&nbsp;</tt> markdown cell. Since this exercise includes a number of supplementary discussions, questions are explicitly marked with a **TODO** marker.\n",
    "\n",
    "<br><div class=\"alert alert-warning\">\n",
    "Please keep in mind that homework assignments must be done individually.\n",
    "</div>"
   ]
  },
  {
   "cell_type": "markdown",
   "metadata": {},
   "source": [
    "## Problem -1: Warmup (not graded)\n",
    "$$\n",
    "\\newcommand{\\vp}{\\mathbf{p}}\n",
    "\\newcommand{\\vl}{\\mathbf{l}}\n",
    "\\newcommand{\\vx}{\\mathbf{x}}\n",
    "\\newcommand{\\mA}{\\mathbf{A}}\n",
    "\\newcommand{\\vb}{\\mathbf{b}}\n",
    "\\newcommand{\\vc}{\\mathbf{c}}\n",
    "\\newcommand{\\vx}{\\mathbf{x}}\n",
    "\\newcommand{\\vu}{\\mathbf{u}}\n",
    "\\newcommand{\\vv}{\\mathbf{v}}\n",
    "\\newcommand{\\mA}{\\mathbf{A}}\n",
    "\\newcommand{\\mL}{\\mathbf{L}}\n",
    "\\newcommand{\\mU}{\\mathbf{U}}\n",
    "\\newcommand{\\mV}{\\mathbf{V}}\n",
    "\\newcommand{\\mP}{\\mathbf{P}}\n",
    "\\newcommand{\\mI}{\\mathbf{I}}\n",
    "$$\n",
    "\n",
    "The following review and paper & pencil questions are meant to check your comprehension of lecture and reading material in addition to linear algebra prerequisites.\n",
    "\n",
    "1. In class, we discussed the *power* and *inverse iteration*, which were two algorithms that converge against the largest and the smallest-magnitude eigenvectors of a matrix $\\mA$, respectively. Suppose now that we want to develop a new algorithm that finds a different eigenvector $\\vv$ whose associated eigenvalue $\\lambda\\in\\mathbb{R}$ is *known* (although it is not necessarily the smallest or largest one).\n",
    "\n",
    "   The way to do this is to run power iteration on a different matrix $\\mA'$ derived from $\\mA$, where $\\vv$ is now associated with the largest eigenvalue. How can such a matrix be created? It may be helpful to review the definition of eigenvalues in terms of roots of the characteristic polynomial.<br><br>\n",
    "\n",
    "2. List two ways in which the power iteration can fail to converge.<br><br>\n",
    "\n",
    "3. Consider a column vector as a $n\\times 1$ matrix and write down its singular value decomposition $\\mathbf{U\\Sigma V}^T$ without using a computer. Do the same exercise once more for a row vector.<br><br>\n",
    "\n",
    "4. During lecture, we discussed how very ill-conditioned linear systems can be regularized by truncating the associated singular value decomposition (Problem 2 in this homework uses this technique). This effectively corresponds to solving a modified linear system -- can you say something about the its condition number?"
   ]
  },
  {
   "cell_type": "markdown",
   "metadata": {},
   "source": [
    "## 0 Prelude\n",
    "\n",
    "As in the previous assignments we'll begin by importing essential NumPy/SciPy/Matplotlib components that are needed to complete the exercises. The first two lines instruct Matplotlib to embed figures directly into the notebook and render them in sufficient quality for modern high-DPI (\"retina\") displays."
   ]
  },
  {
   "cell_type": "code",
   "execution_count": null,
   "metadata": {},
   "outputs": [],
   "source": [
    "%matplotlib inline\n",
    "%config InlineBackend.figure_format='retina'\n",
    "\n",
    "import numpy as np\n",
    "import scipy.linalg as la\n",
    "import scipy.ndimage\n",
    "from matplotlib import pyplot as plt"
   ]
  },
  {
   "cell_type": "markdown",
   "metadata": {},
   "source": [
    "The two lines below adjust the default figure size and ensure that low resolution images are rendered with sharp pixel contours instead of a blurry approximation."
   ]
  },
  {
   "cell_type": "code",
   "execution_count": null,
   "metadata": {},
   "outputs": [],
   "source": [
    "plt.rcParams['figure.figsize'] = (6.0, 6.0)\n",
    "plt.rcParams['image.interpolation'] = 'nearest'"
   ]
  },
  {
   "cell_type": "markdown",
   "metadata": {},
   "source": [
    "This assignment entails construction of large numbers of temporary matrices that may eventually exceed the available amount on memory of your computer (if never freed), hence it's useful to be able to force the Python garbage collector to run from time to time.  The line below performs the necessary import so that this can be done via a call to ``gc.collect()``."
   ]
  },
  {
   "cell_type": "code",
   "execution_count": null,
   "metadata": {},
   "outputs": [],
   "source": [
    "import gc"
   ]
  },
  {
   "cell_type": "markdown",
   "metadata": {},
   "source": [
    "# Problem 1. Analyzing bacterial growth using the matrix exponential & bisection (30 Points)\n",
    "\n",
    "<img width=\"400\" style=\"border:2px solid #000\" src=\"//rgl.s3.eu-central-1.amazonaws.com/media/uploads/wjakob/2016/11/21/yped_agar_plate.jpg\">\n",
    "\n",
    "This problem focuses on a classical application of ordinary differential equations to model bacterial growth. Suppose a petri dish contains $x(t)$ bacteria at time $t$. Assuming abundant resources (nutrients, size of petri dish), the cell culture will grow exponentially at a rate of approximately\n",
    "\n",
    "$$\n",
    "x'(t) = 0.23\\,x(t)\n",
    "$$\n",
    "\n",
    "cells per minute. Bacterial infections can pose a grave danger if left untreated—in this exercise, we will try to understand the effect of adding $a$ milligrams of an antibacterial agent (e.g. an antibiotic) to the petri dish.\n",
    "Suppose that this agent kills bacteria a fixed rate of $10^5$ cells per milligram and per minute. The modified differential equation\n",
    "\n",
    "$$\n",
    "x'(t) = 0.23\\,x(t) - 10^5\\,a,\n",
    "$$\n",
    "\n",
    "then models the resulting behavior (until no more bacteria are left, at which point the equation becomes nonsensical as cell counts become negative).\n",
    "\n",
    "Now suppose that the antibacterial agent is unstable and decays at a rate of $\\beta$ milligrams per minute. Then $a$ also becomes a function of time satisfying the differential equation\n",
    "\n",
    "$$\n",
    "a'(t) = - \\beta\\, a(t).\n",
    "$$\n",
    "\n",
    "In conjunction with the previous equation, we now have a coupled system of two differential equations that can be solved using the eigendecomposition-based matrix exponential approach discussed in class.\n",
    "\n",
    "### 1.1 Matrix exponential-based solver (15 points)\n",
    "\n",
    "**TODO**: define a method ``solve_ode(x0, a0, beta, t)`` that takes the initial values of $x(0)$ and $a(0)$ and the $\\beta$ parameter as inputs. Your implementation should uses ``la.eig()`` to compute and return the value of $x(t)$ at time ``t``."
   ]
  },
  {
   "cell_type": "markdown",
   "metadata": {
    "collapsed": true
   },
   "source": [
    "## Solution"
   ]
  },
  {
   "cell_type": "code",
   "execution_count": null,
   "metadata": {},
   "outputs": [],
   "source": [
    "def solve_ode(x0, a0, beta, t):\n",
    "    A = np.array([[0.23, -(10**5)], [0, -beta]]); #differential matrix\n",
    "    (Lambda, V) = la.eig(A);\n",
    "    prod = Lambda*t;\n",
    "    diago = np.diag(prod); #diagonalization\n",
    "    vInv = la.inv(V)\n",
    "    total = V @ la.expm(diago) @ vInv; #as in the course, on how to solve ODE\n",
    "    y0 = np.array([x0, a0])\n",
    "    solution = total @ y0\n",
    "    return np.real(solution[0])"
   ]
  },
  {
   "cell_type": "markdown",
   "metadata": {},
   "source": [
    "### 1.2 Visualizing the cell counts with $a(0)=2.5mg$ (10 points)\n",
    "\n",
    "**TODO**: Generate a (sufficiently fine) semi-logarithmic plot (``plt.semilogy()``) that shows the cell counts during the first hour assuming that $x(0)=10^6, a(0) = 2.5 mg$, and $\\beta=0.05$. Describe the observed behavior."
   ]
  },
  {
   "cell_type": "markdown",
   "metadata": {
    "collapsed": true
   },
   "source": [
    "## Solution\n"
   ]
  },
  {
   "cell_type": "code",
   "execution_count": null,
   "metadata": {},
   "outputs": [],
   "source": [
    "time = np.arange(60);\n",
    "\n",
    "solution = np.array([solve_ode(10**6, 2.5, 0.05, i) for i in time]);\n",
    "plt.semilogy(time, solution);\n",
    "print(\"There is not enough antibiotic, so the bacteria are reproducing faster than they are killed.\")"
   ]
  },
  {
   "cell_type": "markdown",
   "metadata": {},
   "source": [
    "### 1.3 Visualizing the cell counts with $a(0)=3mg$  (5 pts)\n",
    "\n",
    "**TODO**: Now generate the same plot, but with initial condition $a(0)=3mg$. What do you observe?"
   ]
  },
  {
   "cell_type": "markdown",
   "metadata": {
    "collapsed": true
   },
   "source": [
    "## Solution"
   ]
  },
  {
   "cell_type": "code",
   "execution_count": null,
   "metadata": {},
   "outputs": [],
   "source": [
    "solution = np.array([solve_ode(10**6, 3, 0.05, i) for i in time]);\n",
    "plt.semilogy(time, solution);\n",
    "print(\"Here, there is too much antibiotic, so it kills the bacteria way too fast.\")"
   ]
  },
  {
   "cell_type": "markdown",
   "metadata": {},
   "source": [
    "### 1.4 Hacker points  (10 pts)\n",
    "\n",
    "**TODO (Optional)**: Suppose we want to find just the right amount of antibiotic that will extinguish all bacteria over the course of an hour until finally $x(60)=0$. This is a nonlinear problem. Use the bisection algorithm discussed in class to find the necessary value of $a(0)$ and generate another semi-logarithmic plot that visualizes the resulting bacteria counts during the first hour."
   ]
  },
  {
   "cell_type": "markdown",
   "metadata": {
    "collapsed": true
   },
   "source": [
    "## Solution"
   ]
  },
  {
   "cell_type": "code",
   "execution_count": null,
   "metadata": {},
   "outputs": [],
   "source": [
    "#We know 3 was too much and 2.5 not enough. We use them as boundaries and \n",
    "#define the current as the middle point\n",
    "high = 3;\n",
    "small = 2.5\n",
    "curr = 2.75\n",
    "\n",
    "while True:\n",
    "    valueAtOneHour = solve_ode(10**6, curr, 0.05, 60); ##compute what would be the count after 1h with such antibiotic\n",
    "    if(valueAtOneHour == 0):\n",
    "        break;\n",
    "    if(valueAtOneHour > 0):\n",
    "        small = curr;\n",
    "        curr = (high + curr)/2\n",
    "    if(valueAtOneHour < 0):\n",
    "        high = curr;\n",
    "        curr = (curr + small)/2\n",
    "\n",
    "        \n",
    "solution = np.array([solve_ode(10**6, curr, 0.05, i) for i in time]);\n",
    "plt.semilogy(time, solution);\n",
    "plt.title(\"Bacteria count on 1h with\\n%s mg of antibiotic\" %(curr))\n",
    "plt.show();"
   ]
  },
  {
   "cell_type": "markdown",
   "metadata": {},
   "source": [
    "# Problem 2. The Shadow Box and the SVD-powered X-Ray Glasses (70 points)\n",
    "#### Based on an assignment by Doug James\n",
    "\n",
    "In this assignment, you will learn how to “see through paper” to analyze the contents of a mysterious shadow box. \n",
    "The *shadow box* is a cube containing a light source and an occluder casting a shadow onto a paper screen that is visible from the outside. The following image illustrates the concept:\n",
    "<img width=\"400\" src=\"//rgl.s3.eu-central-1.amazonaws.com/media/uploads/wjakob/2016/11/20/shadowbox-02.jpg\">\n",
    "The specific problem you'll solve is to *infer* the shape of a mystery light source by looking at the shadow it casts. This seems impossible!\n",
    "\n",
    "“How can this incredible power become mine,” you ask? The answer is that you will learn how to use the method of Regularized Least Squares and the too-good-to-be-true Singular Value Decomposition (SVD) to invert the nearly singular light transport process. Mathematically, you will solve $\\mA\\vx = \\vb$ problems with rank-deficient $\\mA$ matrices, where the $\\vx$ and $\\vb$ vectors represent the light source and shadow images, respectively.\n",
    "\n",
    "We'll first focus on the principles of light and shadows that are needed to implement a physically realistic simulation of the shadow box using NumPy and will refer to this as the *forward problem*.  Once the implementation of the forward problem works as expected, you'll be able to move onto the more interesting *inverse problem*: recovering the light source for a given shadow."
   ]
  },
  {
   "cell_type": "markdown",
   "metadata": {},
   "source": [
    "### Preliminaries\n",
    "\n",
    "In this exercise, all light sources, blockers, and shadow images are represented as $200\\times 200$ images. Begin by downloading the file <a href=\"//rgl.s3.eu-central-1.amazonaws.com/media/uploads/wjakob/2016/11/22/images_v2.npz\">images_v2.npz</a>, which contains a number of these images needed to complete the exercise. Place the file into the directory containing the current notebook and then execute the following fragment:"
   ]
  },
  {
   "cell_type": "code",
   "execution_count": null,
   "metadata": {},
   "outputs": [],
   "source": [
    "# All images have resolution 200x200 pixels, save this in 'n' for convenience\n",
    "n = 200\n",
    "\n",
    "# Load a number of images the NPZ file, we'll use them shortly\n",
    "images = np.load(\"images_v2.npz\")\n",
    "\n",
    "# View names of loaded images\n",
    "print(images.keys())"
   ]
  },
  {
   "cell_type": "markdown",
   "metadata": {},
   "source": [
    "The ``images`` map contains both grayscale and RGB images. The former are encoded as standard double precision NumPy matrices (see the left subfigure), with rows of the images corresponding to rows of the matrix (side remark: this means that pixels are indexed using the notation ``image[y, x]`` instead of ``image[x, y]``). Images with RGB color data are stored as 3-tensors, which are  matrices that simply extend into one additional dimension with exactly 3 entries corresponding to the red, green, and blue color channels (right subfigure).\n",
    " \n",
    "<img width=\"600\" src=\"//rgl.s3.eu-central-1.amazonaws.com/media/uploads/wjakob/2016/11/20/shadowbox-03.jpg\">"
   ]
  },
  {
   "cell_type": "markdown",
   "metadata": {},
   "source": [
    "We'll use the NumPy *broadcasting* feature to perform arithmetic involving images of different shapes in this assignment. Please review the <a href=\"https://docs.scipy.org/doc/numpy/user/basics.broadcasting.html\">documentation</a> in case you are not familiar with its operation. A brief knowledge check: do you know why the following sequence of statements\n",
    "```python\n",
    "test_1 = np.zeros((200, 200))\n",
    "test_2 = np.zeros((200, 200, 3))\n",
    "\n",
    "test_1 * test_2\n",
    "```\n",
    "fails with an exception, while the following works?\n",
    "```python\n",
    "test_1[..., np.newaxis] * test_2\n",
    "```"
   ]
  },
  {
   "cell_type": "markdown",
   "metadata": {},
   "source": [
    "As in the previous homework exercise, pixel values are taken to be linear in the amount of light (photons) represented, that is: doubling the value of a pixel should produce twice the brightness when displayed on a screen. An inverse gamma correction must thus be applied to ensure that this is the case given the nonlinear response of current display devices. The function ``show()`` defined below does this and also re-scales images with large pixel values that are greater than ``1.0``. Try running it on some of the images, e.g. ``images['paper']``."
   ]
  },
  {
   "cell_type": "code",
   "execution_count": null,
   "metadata": {},
   "outputs": [],
   "source": [
    "def show(image, *args):\n",
    "    \"\"\"\n",
    "    This function takes an image with linear pixel values and applies\n",
    "    an inverse gamma correction similar to what was done in homework 2\n",
    "    before displaying it. The image is also re-scaled based on the\n",
    "    maximum value and thus doesn't need to be in the range [0, 1].\n",
    "    \"\"\"\n",
    "    img = np.array(image)\n",
    "    img[img < 0] = 0\n",
    "    img = 0.9 * img / np.max(img)\n",
    "    plt.imshow(img ** (1 / 2.2), cmap='gray', *args)"
   ]
  },
  {
   "cell_type": "markdown",
   "metadata": {},
   "source": [
    "## Test"
   ]
  },
  {
   "cell_type": "code",
   "execution_count": null,
   "metadata": {},
   "outputs": [],
   "source": [
    "show(images['paper'])"
   ]
  },
  {
   "cell_type": "markdown",
   "metadata": {},
   "source": [
    "#### Shadow box geometry\n",
    "\n",
    "A few more specifications before we continue: the shadow box is located inside a symmetric cube of unit length. The distance between the light source and and the blocker is given by the variable $t$, which we (arbitrarily) define as $0.7$.\n",
    "\n",
    "<img width=\"400\" src=\"//rgl.s3.eu-central-1.amazonaws.com/media/uploads/wjakob/2016/11/20/shadowbox-01_1.jpg\">"
   ]
  },
  {
   "cell_type": "code",
   "execution_count": null,
   "metadata": {},
   "outputs": [],
   "source": [
    "t = 0.7 # (i.e. closer to the paper)"
   ]
  },
  {
   "cell_type": "markdown",
   "metadata": {},
   "source": [
    "### Part 1 (the forward problem): computing the shadow for a given light source\n",
    "\n",
    "Rendering shadow box images with arbitrary light sources may appear like a rather challenging problem. Fortunately, it can be simplified considerably by breaking the process into a few basic steps. First of all, we shall only consider illumination which have a single pixel on the light source \"turned on\". Note the crisp shadow from such a small light source:\n",
    "<img width=\"400\" src=\"//rgl.s3.eu-central-1.amazonaws.com/media/uploads/wjakob/2016/11/20/shadowbox-04.jpg\">\n",
    "It turns out that this is really all we need: light is *linear* in the sense that the effects of multiple individual light sources can simply be added up to obtain the total illumination. This means that any more complex light source shape in the shadow box can be recreated by summing the shadow images corresponding a number of separate 1-pixel light sources.\n",
    "\n",
    "The illumination from a 1-pixel light source is modeled as the product of three terms:\n",
    "<img width=\"600\" src=\"//rgl.s3.eu-central-1.amazonaws.com/media/uploads/wjakob/2016/11/20/shadowbox-06.jpg\">\n",
    "1. **Irradiance**: specifies how much light arrives at the paper assuming that no light is being blocked.<br><br>\n",
    "\n",
    "2. **Blocker evaluation**: sets pixels to zero that do not receive any light due to the blocker. Which pixels are blocked of course depends on the position of the pixel light source, hence this image differs from the (static) blocker image in the shadow box blueprint shown above.<br><br>\n",
    "\n",
    "3. **Paper**: This is an RGB image which modulates the previous two components to simulate the effect of a paper texture. The paper image is static and stored in ``images['paper']``.\n",
    "\n",
    "The following sections focus on computing each of these parts in turn.\n",
    "\n",
    "### 2.1 Irradiance from a pixel light source while ignoring the blocker (15 points)\n",
    "\n",
    "We assume that a 1-pixel light source can be approximated as a single point due to its small size, and that it emits $\\Phi$ units of energy uniformly into all directions. At a distance of $d$ from the point, that light will have spread out over a concentric sphere with surface area $4\\pi d^2$:\n",
    "<img width=\"400\" src=\"//rgl.s3.eu-central-1.amazonaws.com/media/uploads/wjakob/2016/11/20/shadowbox-05.jpg\">\n",
    "Points on the paper screen obviously receive less illumination the farther they are away from the light source, and in this case the density of light on the sphere will have decreased to a value of $\\Phi/(4\\pi d^2)$ at distance $d$. This means that to determine the brightness at each point, we must be able to compute how far all the pixels on the paper screen are from the light source pixel.\n",
    "\n",
    "In addition to this, another effect plays an important role: parts on the paper screen that are illuminated from an oblique angle will be *darker* than parts that are illuminated perpendicularly. This happens since light stretches out over a different amount of surface area in these two cases, which is illustrated by the following drawing:\n",
    "<img width=\"400\" src=\"//rgl.s3.eu-central-1.amazonaws.com/media/uploads/wjakob/2016/11/20/shadowbox-09.jpg\">\n",
    "More specifically, the amount of reduction is proportional to $\\cos\\theta$, where $\\theta$ is the angle between the surface normal and the line towards the point light source. Combining these two effects, we now can define how much light a point $\\vp$ on the paper screen receives  from a light source at position $\\vl$ (this is known as the *irradiance*):\n",
    "\n",
    "$$\n",
    "E_\\vl(\\vp) = \\frac{\\Phi \\cos \\theta(\\vl, \\vp)}{4\\pi \\|\\vp-\\vl\\|^2},\n",
    "$$\n",
    "\n",
    "where and $\\theta(\\vl, \\vp)$ is the angle described above. We'll assume that the pixel light source emits unit power, i.e. $\\Phi=1$.\n",
    "\n",
    "**TODO**: Implement the function ``eval_irradiance()`` that evaluates $E_\\vl(\\vp)$ following the interface shown in the documentation below.\n",
    "\n",
    "<br>\n",
    "<div class=\"alert alert-warning\">The irradiance will be evaluated hundreds of millions of times in this exercise (!), hence it is crucial that this is done very efficiently. In particular:<br><br>\n",
    "1. The function should simultaneously compute the irradiance for all points on the paper screen using vectorization. ``for`` loops and such are forbidden! <br><br> 2. Costly operations like trigonometric function evaluations should be avoided in performance critical code if possible. Recall that most trigonometric functions have a geometric interpretation as certain ratios of edge lengths in triangles. Perhaps this can be used to replace the pesky cosine term with a function of the distance $\\|\\vp-\\vl\\|$?<br><br> Before continuing, make sure that evaluating your implementation with arguments ``eval_irradiance(0.3, 0.6)`` matches the reference data provided in ``images['debug1']``.\n",
    "</div>"
   ]
  },
  {
   "cell_type": "markdown",
   "metadata": {},
   "source": [
    "## Solution"
   ]
  },
  {
   "cell_type": "code",
   "execution_count": null,
   "metadata": {},
   "outputs": [],
   "source": [
    "# Maps from pixel indices to pixel coordinates\n",
    "grid = np.linspace(0, 1, n)\n",
    "\n",
    "# 200x200 grid of X and Y positions in the range [0, 1]\n",
    "X, Y = np.meshgrid(grid, grid)\n",
    "\n",
    "def eval_irradiance(lx, ly):\n",
    "    \"\"\"\n",
    "    Given a light source position l = [lx, ly], evaluate\n",
    "    E_l(p) for every position 'p' on the paper screen\n",
    "    (defined in the two arrays 'X' and 'Y' above) and\n",
    "    return the result as a 'n' by 'n' matrix.\n",
    "\n",
    "    Input:\n",
    "    \n",
    "       lx, ly:  2D coordinates of the point light source on the light plane\n",
    "                (both values are in the range [0, 1])\n",
    "                \n",
    "    (The reference solution has two lines of code and uses no loops\n",
    "     or trigonometric functions)\n",
    "       \n",
    "    \"\"\"\n",
    "    phi = 1.0 #unit power\n",
    "    \n",
    "    #cos(theta) = (distance plan-source)/(distance pixel-point). (by definition of cos). But \n",
    "    #distance plan-source is defined as 1 (paper-source). Thus only 1/||P-I|| = dist\n",
    "    point3D = np.array([X, Y, 0])  #point is on plan, thus Z always 0. This is broadcasting\n",
    "    source3D = np.array([lx, ly, 1]) #distance paper-source is 1, thus Z always = 1. Also broadcasting.\n",
    "    dist = la.norm(source3D- point3D) # = ||P-I||\n",
    "    \n",
    "    return phi/(4*np.pi*dist**3)\n",
    "\n",
    "plt.figure(1)\n",
    "\n",
    "plt.subplot(121)\n",
    "plt.title(\"Image obtained\")\n",
    "show(eval_irradiance(0.3, 0.6));\n",
    "\n",
    "plt.subplot(122)\n",
    "plt.title(\"Image debug1\")\n",
    "show(images['debug1']);\n",
    "plt.show();"
   ]
  },
  {
   "cell_type": "markdown",
   "metadata": {},
   "source": [
    "### 2.2 Evaluating the blocker (15 points)\n",
    "\n",
    "Next, we'll evaluate the blocker image to determine which pixels on the paper screen are in shadow. To do this, we need to connect the light source position $\\vl$ with every pixel on the paper screen and compute the corresponding intersections with the blocker plane.\n",
    "<img width=\"300\" src=\"//rgl.s3.eu-central-1.amazonaws.com/media/uploads/wjakob/2016/11/20/shadowbox-10.jpg\">\n",
    "\n",
    "Following this, we can simply look up the value of the blocker image at these intersection points. A resulting value of ``0.0`` indicates a shadow, while ``1.0`` signals that light can pass through undisturbed. One slight issue with the above approach is that the intersection points generally won't be located at integer pixel positions, so we can't use them to index directly into the blocker image array. Fortunately, SciPy provides a helper function ``scipy.ndimage.map_coordinates()`` that can evaluate arrays at intermediate positions while applying interpolation.\n",
    "\n",
    "**TODO**: Implement the ``eval_blocker()`` function following the specification below. \n",
    "\n",
    "<br><div class=\"alert alert-warning\">\n",
    "Use the ``scipy.ndimage.map_coordinates()`` function with parameter ``order=1`` (for linear interpolation) and vectorization to simultaneously evalute the blocker for all points $\\vp$. Don't forget to re-scale the inputs to ``map_coordinates`` so that they lie in the range $[0, n-1]$.<br><br>Before continuing, make sure that evaluating your implementation with arguments ``eval_blocker(images['hand'], 0.3, 0.6)`` matches the reference data provided in ``images['debug2']``.\n",
    "</div>"
   ]
  },
  {
   "cell_type": "markdown",
   "metadata": {},
   "source": [
    "## Solution"
   ]
  },
  {
   "cell_type": "code",
   "execution_count": null,
   "metadata": {},
   "outputs": [],
   "source": [
    "def eval_blocker(blocker, lx, ly):\n",
    "    \"\"\"\n",
    "    Given a light source position l = [lx, ly], evaluate\n",
    "    the blocker for every position 'p' on the paper screen\n",
    "    (defined in the two arrays 'X' and 'Y' above) and\n",
    "    return the result as a 'n' by 'n' matrix.\n",
    "\n",
    "    Input:\n",
    "    \n",
    "       blocker: a 200x200 pixel blocker image\n",
    "    \n",
    "       lx, ly:  2D coordinates of the point light source on the light plane\n",
    "                (both values are in the range [0, 1])\n",
    "                \n",
    "    (The reference solution has four lines of code and uses no loops)\n",
    "    \"\"\"\n",
    "    #Considering only 1D at a time, and according to Thales' theorem, we immediately find the following :\n",
    "    #heightBlockerY = (Y-ly)*t+ly #could divide Y-ly by distance paper <--> source, but is 1\n",
    "    #heightBlockerX = (X-lx)*t+lx\n",
    "    #p3D = np.array([heightBlockerY, heightBlockerX])\n",
    "    p3D = np.array([(Y-ly)*t+ly, (X-lx)*t+lx]) #simpler version\n",
    "    rescaled = p3D * (n-1) #rescaling\n",
    "    \n",
    "    return scipy.ndimage.map_coordinates(blocker, rescaled, order=1)\n",
    "\n",
    "    \n",
    "\n",
    "plt.figure(1)\n",
    "plt.subplot(121)\n",
    "plt.title(\"Rendered image\");\n",
    "show(eval_blocker(images['hand'], 0.3, 0.6))\n",
    "plt.subplot(122)\n",
    "plt.title(\"Debug image\")\n",
    "show(images['debug2']);"
   ]
  },
  {
   "cell_type": "markdown",
   "metadata": {},
   "source": [
    "### 2.3 Putting everything together (5 points)\n",
    "\n",
    "**TODO**: Define a function ``render()`` that evaluates the combination of the irradiance, blocker, and paper image as described earlier."
   ]
  },
  {
   "cell_type": "markdown",
   "metadata": {},
   "source": [
    "## Solution"
   ]
  },
  {
   "cell_type": "code",
   "execution_count": null,
   "metadata": {},
   "outputs": [],
   "source": [
    "def render(blocker, lx, ly):\n",
    "    \"\"\"\n",
    "    Given a light source position l = [lx, ly], compute an\n",
    "    image that combines the effects of the light source\n",
    "    irradiance, blocker, and transmission through the paper image.\n",
    "\n",
    "    Input:\n",
    "    \n",
    "       blocker: a 200x200 pixel blocker image\n",
    "    \n",
    "       lx, ly:  2D coordinates of the point light source on the light plane\n",
    "                (both values are in the range [0, 1])\n",
    "                \n",
    "    (The reference solution has two lines of code and uses no loops)\n",
    "    \"\"\"\n",
    "    sol = eval_blocker(blocker, lx, ly) * eval_irradiance(lx, ly)\n",
    "    return sol[..., np.newaxis] * images['paper']\n",
    "plt.title(\"Rendered image\");\n",
    "show(render(images['hand'], 0.3, 0.6));\n",
    "\n"
   ]
  },
  {
   "cell_type": "markdown",
   "metadata": {},
   "source": [
    "#### The final step: assembling the light box matrix\n",
    "\n",
    "Given your implementation of the ``render()`` function above, the final step will involve calling it many times for each possible light source pixel. Every invocation will produce an image that is then converted into a single column of a light transport matrix $\\mA$ that can be used to describe the behavior of the entire shadow box in terms of a matrix multiplication:\n",
    "$$\n",
    "\\mA\\vx = \\vb.\n",
    "$$\n",
    "Here, $\\mA$ (the *light transport matrix*) models the effects of light falloff and the blocker. $\\vx$ is a vector with $200^2$ entries containing the light source intensities, and $\\vb$ is the image shown on the paper screen.\n",
    "\n",
    "However, there is a serious problem with the above approach: a single image returned by ``render()`` has $200\\cdot200\\cdot 3$ entries–in other words, one column of $\\mA$ requires 937 KiB in double precision. There are $200^2$ columns corresponding to all light source pixels, which means that storing the entire matrix $\\mA$ would require a whopping 35 GiB of memory! (and this won't be enough, since we will also want to perform singular value decompositions of the resulting data)\n",
    "\n",
    "To avoid running out of memory, we'll create matrices $\\mA$ with many fewer columns that each have entire blocks of light source pixels turned on at the same time. We let $b$ denote the number of blocks along each axis and refer to to the resulting representation as a *light basis* with resolution $b \\times b$. The following figure shows an example of a $4\\times 4$ light basis."
   ]
  },
  {
   "cell_type": "markdown",
   "metadata": {},
   "source": [
    "<img width=\"800\" src=\"//rgl.s3.eu-central-1.amazonaws.com/media/uploads/wjakob/2016/11/20/shadowbox-07_1.jpg\">"
   ]
  },
  {
   "cell_type": "markdown",
   "metadata": {},
   "source": [
    "For your convience, we provide a helper function ``render_basis()`` that constructs the matrix $\\mA$ while displaying progress messages (this can take several minutes). Reasonable values for $b$ are $10, 20, 25, 40, $ or even $50$. Note that this function assumes that your implementation of ``render()`` is sufficiently vectorizable so that it can be used to compute multiple light source images at once. You may have to fix your implementation for it to work with ``render_basis()`` in case error messages appear when using it.\n",
    "\n",
    "Don't run this function with very small values of $b$ (e.g. 1) or very large ones (e.g. 200) or you will run out of memory. To release memory from variables that are no longer needed, use the ``del`` command and potentially ``gc.collect()`` to force the garbage collector to run."
   ]
  },
  {
   "cell_type": "code",
   "execution_count": null,
   "metadata": {},
   "outputs": [],
   "source": [
    "def render_basis(blocker, b):\n",
    "    \"\"\"\n",
    "    Convenience function which precomputes the light transport matrix A\n",
    "    as described above. Expects a blocker image and a number 'b' of light\n",
    "    transport blocks.\n",
    "    \n",
    "    Returns a 120000 x b^2 matrix\n",
    "    \"\"\"\n",
    "    \n",
    "    # Allocate memory for an uninitialized light transport matrix\n",
    "    A = np.empty((n*n*3, b**2))\n",
    "    index = 0\n",
    "    \n",
    "    # Iterate over b^2 blocks of (n/b)^2 light source pixels\n",
    "    blocks = np.array_split(grid, b)\n",
    "    for by in blocks:\n",
    "        for bx in blocks:\n",
    "            # Generate positions of all pixel light sources within the current block \n",
    "            BX, BY = np.meshgrid(bx, by)\n",
    "\n",
    "            # We want to use vectorization to simultaneously render one image for\n",
    "            # every light pixel within the current block. The following two lines\n",
    "            # append two extra dimensions that will be used for the pixel coordinates\n",
    "            # of the output images\n",
    "            BX = BX[:, :, np.newaxis, np.newaxis]\n",
    "            BY = BY[:, :, np.newaxis, np.newaxis]\n",
    "            \n",
    "            # Sum up all light sources within the block\n",
    "            tmp = np.sum(render(blocker, BX, BY), axis=(0, 1))\n",
    "\n",
    "            # Store the resulting image as a column in the resulting matrix\n",
    "            A[:, index] = tmp.ravel()\n",
    "\n",
    "            # All of this takes a while, so keep track of progress\n",
    "            index += 1\n",
    "            print('\\rProgress: %.2f%%' % (100 * index / (b*b)), end='')\n",
    "            \n",
    "        # Reclaim unused memory\n",
    "        gc.collect()\n",
    "    return A\n",
    "\n",
    "#index = 0\n",
    "#show(render_basis(images['hand'], 25)[:, index].reshape(200, 200, 3)) long to compute... but for 0 <= index < b²\n",
    "#we have a picture for 1 single light pixel.\n",
    "\n"
   ]
  },
  {
   "cell_type": "markdown",
   "metadata": {},
   "source": [
    "### Part 2 (the inverse problem): computing the light source corresponding to a particular shadow\n",
    "\n",
    "Having wrapped up the forward problem, let's now focus on the *inverse problem*: determining the light source shape from a shadow observed on the paper screen. This is a least squares problem: we desire to find the linear combination of light basis vectors that best matches the observed shadow $\\vb$. Using higher values of $b$ will lead to finer resolution reconstructions during this process.\n",
    "\n",
    "Unfortunately, the light transport matrix $\\mA$ is much too ill-conditioned to invert directly. Furthermore, matrices created for high resolution light bases tend to have a worse condition numbers than those created for comparatively coarse ones. As we have discussed in the lectures, ill-conditioned matrices tend to magnify the effects of noise and miniscule rounding errors, causing nonsensical solutions containing components with extremely large magnitudes.\n",
    "\n",
    "To solve the least squares system without these issues, we will apply a *truncated SVD* (TSVD) solver as discussed in class. This entails computing the economy-size SVD (``scipy.linalg.svd`` with parameter ``full_matrices=False``).\n",
    "Let\n",
    "\n",
    "$$\n",
    "\\mathbf{U\\Sigma V}^T = \\mathrm{svd}(\\mA),\n",
    "$$\n",
    "\n",
    "where the columns of $\\mU$ and $\\mV$ are denoted as $\\vu_i$ and $\\vv_i$, respectively, and $\\mathbf{\\Sigma}$ is a diagonal matrix with entries $\\sigma_i$. Then the solution of the linear system $\\mA\\vx=\\vb$ can be expressed as\n",
    "$$\n",
    "\\vx=\\sum_{i=1}^{b^2}\\vv_i \\frac{1}{\\sigma_i} \\vu_i^T\\vb\n",
    "$$\n",
    "\n",
    "The idea of the truncated SVD solver is to restrict the summation to singular values satisfying $\\sigma_i > \\sigma_0\\cdot \\varepsilon$ for some given value of $\\epsilon \\ll 1$, which avoids dividing by very small values of $\\sigma_i$.\n",
    "\n",
    "### 2.4 TSVD Solver (15 points)\n",
    "\n",
    "**TODO**: Create a function that realizes the TSVD solver described above. Since the function will be called many times with different settings, it's probably a good idea to design it in a way so that it takes a precomputed singular value decomposition and $\\epsilon$ as parameters. One remark: note that the SciPy implementation of\n",
    "```python\n",
    "U, S, Vt = la.svd(A)\n",
    "```\n",
    "returns the ``Vt`` matrix already in transposed form."
   ]
  },
  {
   "cell_type": "markdown",
   "metadata": {},
   "source": [
    "## Solution"
   ]
  },
  {
   "cell_type": "code",
   "execution_count": null,
   "metadata": {},
   "outputs": [],
   "source": [
    "def solve_tsvd(U, Sigma, Vt, blocker, eps, b):\n",
    "    Ut = U.T\n",
    "    thres = S[0] * eps ##compute threshold\n",
    "    flatten = np.ndarray.flatten(blocker)\n",
    "    #Fill the array with elements according to the above formula\n",
    "    vectors = np.array([(Vt[i] *  (1/S[i]) * (Ut[i] @ flatten)) for i in range(0, b**2) if Sigma[i] > thres])\n",
    "    x = np.sum(vectors, axis=0) \n",
    "    \"\"\"\n",
    "    Now we have a table vectors of shape (someValue x b^2) with someValue besoin the elements of S[i] > threshold.\n",
    "    We want to sum the elements of each line to have the total amount of light in the current pixel.\n",
    "    Repeat for each b^2 line. Then x is shaped as (,b^2). We want to have a real image by reshaping it into (b,b)\n",
    "    \"\"\"\n",
    "    del vectors, flatten\n",
    "    gc.collect()\n",
    "    return x.reshape(b, b)"
   ]
  },
  {
   "cell_type": "markdown",
   "metadata": {},
   "source": [
    "## The challenges (20 points + 5 optional hacker points)\n",
    "\n",
    "The following image shows a number of challenges for you to solve. The shown names correspond to named entries in the ``images`` dictionary.\n",
    "\n",
    "<img width=\"1000\" src=\"//rgl.s3.eu-central-1.amazonaws.com/media/uploads/wjakob/2016/11/20/shadowbox-08.jpg\">\n",
    "\n",
    "\n",
    "**TODO**: Begin with the first challenge (second column) and perform the following steps:\n",
    "\n",
    "1. (5 pts) Generate a $20\\times 20$ or $40 \\times 40$ light basis for the ``hand`` blocker and compute its SVD. Perform a semi-logarithmic plot (``plt.similogy()``) showing how the singular values fall off. What do you observe?<br><br>\n",
    "\n",
    "2. (5 pts) Run the TSVD solver with $\\varepsilon=10^{-1},10^{-2},10^{-3}, 10^{-100}$ and plot the resulting light images. What do you observe?<br><br>\n",
    "\n",
    "3. (5 pts) Move onto the secondary challenge (``qmark`` and ``shadow3``) -- you'll have to find suitable parameters for $\\epsilon$ and $b$ on your own. Can you find out how many fingers the hand-shaped light source is holding up?<br><br>\n",
    "\n",
    "4. (5 pts) Move onto the third challenge (``decoupage`` and ``shadow4``). What is hiding here?<br><br>\n",
    "\n",
    "5. **Hacker points** (5 pts): Can you crack the last challenge? Warning, this one is very hard."
   ]
  },
  {
   "cell_type": "markdown",
   "metadata": {
    "collapsed": true
   },
   "source": [
    "## Solution"
   ]
  },
  {
   "cell_type": "code",
   "execution_count": null,
   "metadata": {},
   "outputs": [],
   "source": [
    "#Hand\n",
    "gc.collect()\n",
    "b = 40\n",
    "U, S, Vt = la.svd(render_basis(images['hand'], b), full_matrices = False)"
   ]
  },
  {
   "cell_type": "code",
   "execution_count": null,
   "metadata": {},
   "outputs": [],
   "source": [
    "#1.\n",
    "plt.semilogy(S);\n",
    "plt.title(\"SVD : values of Sigma for the hand blocker\")\n",
    "plt.show();\n",
    "print(\"The values fall as discussed in class for the Low-Rank approximation. This is why we apply the Eckard-Young method\\n\"\n",
    "     \"by selecting an epsilon not too big nor too small : it would resuld respectively in not enough values (a vertical\\n\"\n",
    "     \"line too much on the left) or too many (line too much on the right) and some noise. For example, the threshold for\"\n",
    "     \"the hand blocker and epsilon = 10**-3 is about 8.4. This gives a line pretty close to what was seen during the course.\")"
   ]
  },
  {
   "cell_type": "code",
   "execution_count": null,
   "metadata": {},
   "outputs": [],
   "source": [
    "#2.\n",
    "plt.figure(1)\n",
    "\n",
    "plt.subplot(221)\n",
    "plt.title(\"For epsilon = 10^(-1)\")\n",
    "show(solve_tsvd(U, S, Vt, images['shadow2'], 10**-1, b))\n",
    "\n",
    "#plt.figure(2)\n",
    "plt.subplot(222)\n",
    "plt.title(\"For epsilon = 10^(-2)\")\n",
    "show(solve_tsvd(U, S, Vt, images['shadow2'], 10**-2, b))\n",
    "\n",
    "#plt.figure(3)\n",
    "plt.subplot(223)\n",
    "plt.title(\"For epsilon = 10^(-3)\")\n",
    "show(solve_tsvd(U, S, Vt, images['shadow2'], 10**-3, b))\n",
    "#plt.figure(4)\n",
    "plt.subplot(224)\n",
    "plt.title(\"For epsilon = 10^(-100)\")\n",
    "show(solve_tsvd(U, S, Vt, images['shadow2'], 10**-100, b))\n",
    "\n",
    "plt.show();\n",
    "gc.collect();\n",
    "print(\"We see that a bigger epsilon doesn't yield enough values as only few of them are bigger than the threshold\\n2\"\n",
    "     \"when a too small epsilon accepts too many elements and forces absurdly small divisions, creating this noise.\");"
   ]
  },
  {
   "cell_type": "code",
   "execution_count": null,
   "metadata": {},
   "outputs": [],
   "source": [
    "#.3\n",
    "del U, S, Vt #if this cell is not launched sequentially, comment this line\n",
    "gc.collect()\n",
    "\n",
    "b = 50\n",
    "U, S, Vt = la.svd(render_basis(images['qmark'], b), full_matrices = False)\n",
    "show(solve_tsvd(U, S, Vt, images['shadow3'], 10**-3, b));\n",
    "print(\"Here is a hand with 3 fingers held up\");"
   ]
  },
  {
   "cell_type": "code",
   "execution_count": null,
   "metadata": {},
   "outputs": [],
   "source": [
    "#4.\n",
    "del U, S, Vt #if this cell is not launched sequentially, comment this line\n",
    "gc.collect()\n",
    "\n",
    "b = 50\n",
    "U, S, Vt = la.svd(render_basis(images['decoupage'], b), full_matrices = False)\n",
    "show(solve_tsvd(U, S, Vt, images['shadow4'], 10**-3, b));\n",
    "print(\"This one shows a nice cross (swiss or hospital ?)\");\n"
   ]
  },
  {
   "cell_type": "code",
   "execution_count": null,
   "metadata": {},
   "outputs": [],
   "source": [
    "#5.\n",
    "del U, S, Vt #if this cell is not launched sequentially, comment this line\n",
    "gc.collect()\n",
    "\n",
    "b = 50\n",
    "U, S, Vt = la.svd(render_basis(images['epfl'], b), full_matrices = False)\n",
    "show(solve_tsvd(U, S, Vt, images['shadow5'], 10**-3, b));\n",
    "print(\"This oddly looks like the logo of the students-oriented restaurant at EPFL with 15.- burgers.\\n\"\n",
    "      \"Named the Montreux Jazz Cafe, isn't it ?\");"
   ]
  }
 ],
 "metadata": {
  "anaconda-cloud": {},
  "kernelspec": {
   "display_name": "Python 3",
   "language": "python",
   "name": "python3"
  },
  "language_info": {
   "codemirror_mode": {
    "name": "ipython",
    "version": 3
   },
   "file_extension": ".py",
   "mimetype": "text/x-python",
   "name": "python",
   "nbconvert_exporter": "python",
   "pygments_lexer": "ipython3",
   "version": "3.6.6"
  }
 },
 "nbformat": 4,
 "nbformat_minor": 1
}
